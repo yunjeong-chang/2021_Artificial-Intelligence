{
  "nbformat": 4,
  "nbformat_minor": 0,
  "metadata": {
    "colab": {
      "name": "[인공지능][6주차][실습] 심층신경망 (2부).ipynb의 사본",
      "provenance": [],
      "collapsed_sections": [],
      "include_colab_link": true
    },
    "kernelspec": {
      "name": "python3",
      "display_name": "Python 3"
    }
  },
  "cells": [
    {
      "cell_type": "markdown",
      "metadata": {
        "id": "view-in-github",
        "colab_type": "text"
      },
      "source": [
        "<a href=\"https://colab.research.google.com/github/yunjeong-chang/2021_Artificial-Intelligence/blob/main/5%EC%A3%BC%EC%B0%A8/exercise/5%EC%A3%BC%EC%B0%A8_%EC%8B%A4%EC%8A%B52_MLP(XOR).ipynb\" target=\"_parent\"><img src=\"https://colab.research.google.com/assets/colab-badge.svg\" alt=\"Open In Colab\"/></a>"
      ]
    },
    {
      "cell_type": "markdown",
      "metadata": {
        "id": "3nel5KbQk6NW"
      },
      "source": [
        "## Multi-Layer Perceptron (NN)\n",
        "- 은닉층이 두개 이상인 신경망 구조\n",
        "- XOR 문제를 해결 할 수 있다."
      ]
    },
    {
      "cell_type": "markdown",
      "metadata": {
        "id": "0a8r2FdxmCLA"
      },
      "source": [
        "### 데이터 입출력 정의"
      ]
    },
    {
      "cell_type": "code",
      "metadata": {
        "id": "FVxuoNM4k4RO"
      },
      "source": [
        "import torch"
      ],
      "execution_count": 1,
      "outputs": []
    },
    {
      "cell_type": "code",
      "metadata": {
        "id": "REdopVKHlFYN",
        "colab": {
          "base_uri": "https://localhost:8080/"
        },
        "outputId": "996a0739-ff8e-4f40-f8d1-cb07c13aad88"
      },
      "source": [
        "torch.manual_seed(777)"
      ],
      "execution_count": 2,
      "outputs": [
        {
          "output_type": "execute_result",
          "data": {
            "text/plain": [
              "<torch._C.Generator at 0x7f01a3c77b10>"
            ]
          },
          "metadata": {},
          "execution_count": 2
        }
      ]
    },
    {
      "cell_type": "code",
      "metadata": {
        "id": "G-7wlisFlHae"
      },
      "source": [
        "X = torch.FloatTensor([[0,0], [0,1], [1,0],[1,1]])\n",
        "Y = torch.FloatTensor([[0],[1],[1],[0]])"
      ],
      "execution_count": 3,
      "outputs": []
    },
    {
      "cell_type": "code",
      "metadata": {
        "id": "_qQ3IyHGlMbe",
        "colab": {
          "base_uri": "https://localhost:8080/"
        },
        "outputId": "9ae26755-d85b-4946-953a-8ef646a15d58"
      },
      "source": [
        "X"
      ],
      "execution_count": 4,
      "outputs": [
        {
          "output_type": "execute_result",
          "data": {
            "text/plain": [
              "tensor([[0., 0.],\n",
              "        [0., 1.],\n",
              "        [1., 0.],\n",
              "        [1., 1.]])"
            ]
          },
          "metadata": {},
          "execution_count": 4
        }
      ]
    },
    {
      "cell_type": "code",
      "metadata": {
        "id": "XDGywTUZlQVG",
        "colab": {
          "base_uri": "https://localhost:8080/"
        },
        "outputId": "39f46238-b010-41ea-a156-28377eba5abd"
      },
      "source": [
        "Y"
      ],
      "execution_count": 5,
      "outputs": [
        {
          "output_type": "execute_result",
          "data": {
            "text/plain": [
              "tensor([[0.],\n",
              "        [1.],\n",
              "        [1.],\n",
              "        [0.]])"
            ]
          },
          "metadata": {},
          "execution_count": 5
        }
      ]
    },
    {
      "cell_type": "markdown",
      "metadata": {
        "id": "iIirpZeFl8oA"
      },
      "source": [
        "### NN 모델 정의 \n",
        "- Perceptron과 차이는 모델 설계 부분"
      ]
    },
    {
      "cell_type": "code",
      "metadata": {
        "id": "qfLQLAublQoV"
      },
      "source": [
        "## 모델 설계\n",
        "layer1 = torch.nn.Linear(2,2,bias=True)\n",
        "layer2 = torch.nn.Linear(2,1,bias=True)\n",
        "sigmoid = torch.nn.Sigmoid()"
      ],
      "execution_count": 6,
      "outputs": []
    },
    {
      "cell_type": "code",
      "metadata": {
        "id": "YE3xt7E9ldAE"
      },
      "source": [
        "model = torch.nn.Sequential(layer1,sigmoid,layer2,sigmoid)"
      ],
      "execution_count": 7,
      "outputs": []
    },
    {
      "cell_type": "code",
      "metadata": {
        "id": "jORhIVqSrYUH",
        "colab": {
          "base_uri": "https://localhost:8080/"
        },
        "outputId": "7ca95ce8-cabe-44cc-a4d8-d3acca920082"
      },
      "source": [
        "model"
      ],
      "execution_count": 8,
      "outputs": [
        {
          "output_type": "execute_result",
          "data": {
            "text/plain": [
              "Sequential(\n",
              "  (0): Linear(in_features=2, out_features=2, bias=True)\n",
              "  (1): Sigmoid()\n",
              "  (2): Linear(in_features=2, out_features=1, bias=True)\n",
              "  (3): Sigmoid()\n",
              ")"
            ]
          },
          "metadata": {},
          "execution_count": 8
        }
      ]
    },
    {
      "cell_type": "markdown",
      "metadata": {
        "id": "Q8TcUc92l52r"
      },
      "source": [
        "### 모델 학습"
      ]
    },
    {
      "cell_type": "code",
      "metadata": {
        "id": "VvnnReW2loXI"
      },
      "source": [
        "loss = torch.nn.BCELoss()\n",
        "optimizer = torch.optim.SGD(model.parameters(), lr=1)"
      ],
      "execution_count": 9,
      "outputs": []
    },
    {
      "cell_type": "code",
      "metadata": {
        "id": "Px1iYcB9lq-I",
        "colab": {
          "base_uri": "https://localhost:8080/"
        },
        "outputId": "68ab59f5-58db-48cb-c383-760bcd13b9a3"
      },
      "source": [
        "for stop in range(10000):\n",
        "    \n",
        "    # 그래디언트 초기화\n",
        "    optimizer.zero_grad()\n",
        "    # Forward 계산\n",
        "    hypothesis = model(X)\n",
        "    # Error 계산\n",
        "    cost = loss(hypothesis, Y)\n",
        "    # Backward 계산 \n",
        "    cost.backward()\n",
        "    # 가중치 갱신\n",
        "    optimizer.step()\n",
        "\n",
        "    if stop % 1000 == 0:\n",
        "        print(stop, cost.item())\n"
      ],
      "execution_count": 10,
      "outputs": [
        {
          "output_type": "stream",
          "name": "stdout",
          "text": [
            "0 0.7434073090553284\n",
            "1000 0.6930999755859375\n",
            "2000 0.6838315725326538\n",
            "3000 0.013983809389173985\n",
            "4000 0.005768375005573034\n",
            "5000 0.0036007347516715527\n",
            "6000 0.0026096487417817116\n",
            "7000 0.00204361486248672\n",
            "8000 0.001678097527474165\n",
            "9000 0.0014228165382519364\n"
          ]
        }
      ]
    },
    {
      "cell_type": "markdown",
      "metadata": {
        "id": "yU7LWgLfl3jN"
      },
      "source": [
        "### 모델 평가"
      ]
    },
    {
      "cell_type": "code",
      "metadata": {
        "id": "Ap0SGc0bl0WS",
        "colab": {
          "base_uri": "https://localhost:8080/"
        },
        "outputId": "6a7aeac6-8108-4751-ccb9-b2ea748afff9"
      },
      "source": [
        "## w,b 평가\n",
        "\n",
        "with torch.no_grad(): # 임시로 required_grad = false로 설정하는 것과 같다.\n",
        "\n",
        "    hypothesis = model(X)\n",
        "    predicted = (hypothesis > 0.5).float() # logistic regression => binary classification\n",
        "    accuracy = (predicted == Y).float().mean()\n",
        "    print('\\n Hypothesis: ', hypothesis.numpy(), '\\n Correct: ', predicted.numpy(), '\\n Accuracy: ', accuracy.item())\n"
      ],
      "execution_count": 11,
      "outputs": [
        {
          "output_type": "stream",
          "name": "stdout",
          "text": [
            "\n",
            " Hypothesis:  [[0.00106378]\n",
            " [0.9988938 ]\n",
            " [0.9988939 ]\n",
            " [0.00165883]] \n",
            " Correct:  [[0.]\n",
            " [1.]\n",
            " [1.]\n",
            " [0.]] \n",
            " Accuracy:  1.0\n"
          ]
        }
      ]
    }
  ]
}
