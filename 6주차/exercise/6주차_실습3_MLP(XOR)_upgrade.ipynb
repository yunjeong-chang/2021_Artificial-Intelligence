{
  "nbformat": 4,
  "nbformat_minor": 0,
  "metadata": {
    "colab": {
      "name": "[인공지능][6주차][실습] 심층신경망 (3부).ipynb의 사본",
      "provenance": [],
      "include_colab_link": true
    },
    "kernelspec": {
      "name": "python3",
      "display_name": "Python 3"
    }
  },
  "cells": [
    {
      "cell_type": "markdown",
      "metadata": {
        "id": "view-in-github",
        "colab_type": "text"
      },
      "source": [
        "<a href=\"https://colab.research.google.com/github/yunjeong-chang/2021_Artificial-Intelligence/blob/main/5%EC%A3%BC%EC%B0%A8/exercise/5%EC%A3%BC%EC%B0%A8_%EC%8B%A4%EC%8A%B53_MLP(XOR)_upgrade.ipynb\" target=\"_parent\"><img src=\"https://colab.research.google.com/assets/colab-badge.svg\" alt=\"Open In Colab\"/></a>"
      ]
    },
    {
      "cell_type": "markdown",
      "metadata": {
        "id": "3nel5KbQk6NW"
      },
      "source": [
        "## Multi-Layer Perceptron (NN)\n",
        "- 은닉층이 두개 이상인 신경망 구조\n",
        "- XOR 문제를 해결 할 수 있다."
      ]
    },
    {
      "cell_type": "markdown",
      "metadata": {
        "id": "0a8r2FdxmCLA"
      },
      "source": [
        "### 데이터 입출력 정의"
      ]
    },
    {
      "cell_type": "code",
      "metadata": {
        "id": "FVxuoNM4k4RO"
      },
      "source": [
        "import torch"
      ],
      "execution_count": 1,
      "outputs": []
    },
    {
      "cell_type": "code",
      "metadata": {
        "id": "REdopVKHlFYN",
        "colab": {
          "base_uri": "https://localhost:8080/"
        },
        "outputId": "f466bb40-810d-48a1-f6f3-77ffd5f08ab8"
      },
      "source": [
        "torch.manual_seed(777)"
      ],
      "execution_count": 2,
      "outputs": [
        {
          "output_type": "execute_result",
          "data": {
            "text/plain": [
              "<torch._C.Generator at 0x7f638be61af0>"
            ]
          },
          "metadata": {},
          "execution_count": 2
        }
      ]
    },
    {
      "cell_type": "code",
      "metadata": {
        "id": "G-7wlisFlHae"
      },
      "source": [
        "X = torch.FloatTensor([[0,0], [0,1], [1,0],[1,1]])\n",
        "Y = torch.FloatTensor([[0],[1],[1],[0]])"
      ],
      "execution_count": 3,
      "outputs": []
    },
    {
      "cell_type": "code",
      "metadata": {
        "id": "_qQ3IyHGlMbe",
        "colab": {
          "base_uri": "https://localhost:8080/"
        },
        "outputId": "a08aa4ed-d378-495e-b822-a4ded46b5ad9"
      },
      "source": [
        "X"
      ],
      "execution_count": 4,
      "outputs": [
        {
          "output_type": "execute_result",
          "data": {
            "text/plain": [
              "tensor([[0., 0.],\n",
              "        [0., 1.],\n",
              "        [1., 0.],\n",
              "        [1., 1.]])"
            ]
          },
          "metadata": {},
          "execution_count": 4
        }
      ]
    },
    {
      "cell_type": "code",
      "metadata": {
        "id": "XDGywTUZlQVG",
        "colab": {
          "base_uri": "https://localhost:8080/"
        },
        "outputId": "1f2ee43f-54f1-4960-b006-345dc4c09c27"
      },
      "source": [
        "Y"
      ],
      "execution_count": 5,
      "outputs": [
        {
          "output_type": "execute_result",
          "data": {
            "text/plain": [
              "tensor([[0.],\n",
              "        [1.],\n",
              "        [1.],\n",
              "        [0.]])"
            ]
          },
          "metadata": {},
          "execution_count": 5
        }
      ]
    },
    {
      "cell_type": "markdown",
      "metadata": {
        "id": "iIirpZeFl8oA"
      },
      "source": [
        "### NN 모델 정의 \n",
        "- 더 깊고, 넓게 만들기\n",
        "  - 깊게 => 은닉층 늘리기\n",
        "  - 넓게 => feature 수 늘리기"
      ]
    },
    {
      "cell_type": "code",
      "metadata": {
        "id": "qfLQLAublQoV"
      },
      "source": [
        "## 모델 설계\n",
        "linear1 = torch.nn.Linear(2, 10, bias=True)\n",
        "linear2 = torch.nn.Linear(10, 10, bias=True)\n",
        "linear3 = torch.nn.Linear(10, 10, bias=True)\n",
        "linear4 = torch.nn.Linear(10, 1, bias=True)\n",
        "sigmoid = torch.nn.Sigmoid()"
      ],
      "execution_count": 6,
      "outputs": []
    },
    {
      "cell_type": "code",
      "metadata": {
        "id": "YE3xt7E9ldAE"
      },
      "source": [
        "model = torch.nn.Sequential(linear1, sigmoid, linear2, sigmoid, linear3, sigmoid, linear4, sigmoid)"
      ],
      "execution_count": 7,
      "outputs": []
    },
    {
      "cell_type": "markdown",
      "metadata": {
        "id": "Q8TcUc92l52r"
      },
      "source": [
        "### 모델 학습"
      ]
    },
    {
      "cell_type": "code",
      "metadata": {
        "id": "VvnnReW2loXI"
      },
      "source": [
        "loss = torch.nn.BCELoss()\n",
        "optimizer = torch.optim.SGD(model.parameters(), lr=1)"
      ],
      "execution_count": 8,
      "outputs": []
    },
    {
      "cell_type": "code",
      "metadata": {
        "id": "Px1iYcB9lq-I",
        "colab": {
          "base_uri": "https://localhost:8080/"
        },
        "outputId": "f7376b34-1c64-47da-a50b-6f2250446fbd"
      },
      "source": [
        "for stop in range(10000):\n",
        "    \n",
        "    # 그래디언트 초기화\n",
        "    optimizer.zero_grad()\n",
        "    # Forward 계산\n",
        "    hypothesis = model(X)\n",
        "    # Error 계산\n",
        "    cost = loss(hypothesis, Y)\n",
        "    # Backward 계산 \n",
        "    cost.backward()\n",
        "    # 가중치 갱신\n",
        "    optimizer.step()\n",
        "\n",
        "    if stop % 1000 == 0:\n",
        "        print(stop, cost.item())\n"
      ],
      "execution_count": 9,
      "outputs": [
        {
          "output_type": "stream",
          "name": "stdout",
          "text": [
            "0 0.6948983669281006\n",
            "1000 0.6931379437446594\n",
            "2000 0.6931172013282776\n",
            "3000 0.6930762529373169\n",
            "4000 0.6929103136062622\n",
            "5000 0.6820822358131409\n",
            "6000 0.0013032691786065698\n",
            "7000 0.0004838125314563513\n",
            "8000 0.00028903622296638787\n",
            "9000 0.0002038097009062767\n"
          ]
        }
      ]
    },
    {
      "cell_type": "markdown",
      "metadata": {
        "id": "yU7LWgLfl3jN"
      },
      "source": [
        "### 모델 평가"
      ]
    },
    {
      "cell_type": "code",
      "metadata": {
        "id": "Ap0SGc0bl0WS",
        "colab": {
          "base_uri": "https://localhost:8080/"
        },
        "outputId": "7f52f55c-ddee-4553-e217-89021eb62f96"
      },
      "source": [
        "## w,b 평가\n",
        "\n",
        "with torch.no_grad(): # 임시로 required_grad = false로 설정하는 것과 같다.\n",
        "\n",
        "    hypothesis = model(X)\n",
        "    predicted = (hypothesis > 0.5).float()\n",
        "    accuracy = (predicted == Y).float().mean()\n",
        "    print('\\n Hypothesis: ', hypothesis.numpy(), '\\n Correct: ', predicted.numpy(), '\\n Accuracy: ', accuracy.item())\n",
        "    # Accuracy 1"
      ],
      "execution_count": 10,
      "outputs": [
        {
          "output_type": "stream",
          "name": "stdout",
          "text": [
            "\n",
            " Hypothesis:  [[1.1171443e-04]\n",
            " [9.9982882e-01]\n",
            " [9.9984229e-01]\n",
            " [1.8533881e-04]] \n",
            " Correct:  [[0.]\n",
            " [1.]\n",
            " [1.]\n",
            " [0.]] \n",
            " Accuracy:  1.0\n"
          ]
        }
      ]
    }
  ]
}
