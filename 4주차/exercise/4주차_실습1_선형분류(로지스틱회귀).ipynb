{
  "nbformat": 4,
  "nbformat_minor": 0,
  "metadata": {
    "colab": {
      "name": "[인공지능][4주차][실습] 선형분류 (1부).ipynb의 사본",
      "provenance": [],
      "include_colab_link": true
    },
    "kernelspec": {
      "name": "python3",
      "display_name": "Python 3"
    }
  },
  "cells": [
    {
      "cell_type": "markdown",
      "metadata": {
        "id": "view-in-github",
        "colab_type": "text"
      },
      "source": [
        "<a href=\"https://colab.research.google.com/github/yunjeong-chang/2021_Artificial-Intelligence/blob/main/4%EC%A3%BC%EC%B0%A8/exercise/4%EC%A3%BC%EC%B0%A8_%EC%8B%A4%EC%8A%B51_%EC%84%A0%ED%98%95%EB%B6%84%EB%A5%98(%EB%A1%9C%EC%A7%80%EC%8A%A4%ED%8B%B1%ED%9A%8C%EA%B7%80).ipynb\" target=\"_parent\"><img src=\"https://colab.research.google.com/assets/colab-badge.svg\" alt=\"Open In Colab\"/></a>"
      ]
    },
    {
      "cell_type": "markdown",
      "metadata": {
        "id": "M28HiXfUvEFs"
      },
      "source": [
        "## Logistic Regression"
      ]
    },
    {
      "cell_type": "markdown",
      "metadata": {
        "id": "181-r5zpvQTJ"
      },
      "source": [
        "### Hypothesis\n"
      ]
    },
    {
      "cell_type": "markdown",
      "metadata": {
        "id": "Ae_rXPqbyQrS"
      },
      "source": [
        "$$ H(X) = \\frac{1}{1+e^{-W^T X}} $$"
      ]
    },
    {
      "cell_type": "markdown",
      "metadata": {
        "id": "HTYoxR2vvEFu"
      },
      "source": [
        "### Cost"
      ]
    },
    {
      "cell_type": "markdown",
      "metadata": {
        "id": "Ct6rGwEZvjFm"
      },
      "source": [
        "$$ cost(W) = -\\frac{1}{m} \\sum y \\log\\left(H(x)\\right) + (1-y) \\left( \\log(1-H(x) \\right) $$"
      ]
    },
    {
      "cell_type": "markdown",
      "metadata": {
        "id": "xEhCAEUKvm0w"
      },
      "source": [
        " - If $y \\simeq H(x)$, cost is near 0.\n",
        " - If $y \\neq H(x)$, cost is high."
      ]
    },
    {
      "cell_type": "markdown",
      "metadata": {
        "id": "blnYJnp6vsyD"
      },
      "source": [
        "### Weight Update via Gradient Descent"
      ]
    },
    {
      "cell_type": "markdown",
      "metadata": {
        "id": "o7JjhieWvumV"
      },
      "source": [
        "$$ W := W - \\alpha \\frac{\\partial}{\\partial W} cost(W) $$"
      ]
    },
    {
      "cell_type": "markdown",
      "metadata": {
        "id": "LtRH_7H7vy_R"
      },
      "source": [
        " - $\\alpha$: Learning rate"
      ]
    },
    {
      "cell_type": "markdown",
      "metadata": {
        "id": "wRIyNbAIrz4q"
      },
      "source": [
        "## 데이터 로드"
      ]
    },
    {
      "cell_type": "code",
      "metadata": {
        "id": "H_EjH3ZIqw5r",
        "colab": {
          "base_uri": "https://localhost:8080/"
        },
        "outputId": "dd36b943-a1db-4710-ca6c-e77116f090c0"
      },
      "source": [
        "import torch\n",
        "import torch.optim as optim\n",
        "\n",
        "# For reproducibility\n",
        "torch.manual_seed(1)\n",
        "\n",
        "# 임의 데이터 생성\n",
        "x_data = [[1, 2], [2, 3], [3, 1], [4, 3], [5, 3], [6, 2]] # [1, 2] : 1시간 공부하고 2번 수업 참여\n",
        "y_data = [[0], [0], [0], [1], [1], [1]] # 0은 불합격, 1은 합격\n",
        "\n",
        "x_train = torch.FloatTensor(x_data)\n",
        "y_train = torch.FloatTensor(y_data)\n",
        "\n",
        "print(x_data)\n",
        "print(x_train)\n",
        "print(x_train.shape)\n",
        "print(y_train.shape)"
      ],
      "execution_count": 6,
      "outputs": [
        {
          "output_type": "stream",
          "name": "stdout",
          "text": [
            "[[1, 2], [2, 3], [3, 1], [4, 3], [5, 3], [6, 2]]\n",
            "tensor([[1., 2.],\n",
            "        [2., 3.],\n",
            "        [3., 1.],\n",
            "        [4., 3.],\n",
            "        [5., 3.],\n",
            "        [6., 2.]])\n",
            "torch.Size([6, 2])\n",
            "torch.Size([6, 1])\n"
          ]
        }
      ]
    },
    {
      "cell_type": "markdown",
      "metadata": {
        "id": "8FH_CGo4rw5r"
      },
      "source": [
        "## 모델 학습"
      ]
    },
    {
      "cell_type": "code",
      "metadata": {
        "id": "c8R8WMJiYbTj",
        "colab": {
          "base_uri": "https://localhost:8080/"
        },
        "outputId": "40eab179-ecc6-484b-c9b8-130c779c35bd"
      },
      "source": [
        "W = torch.ones((2, 1), requires_grad=True)\n",
        "\n",
        "print(W)"
      ],
      "execution_count": 7,
      "outputs": [
        {
          "output_type": "stream",
          "name": "stdout",
          "text": [
            "tensor([[1.],\n",
            "        [1.]], requires_grad=True)\n"
          ]
        }
      ]
    },
    {
      "cell_type": "code",
      "metadata": {
        "id": "Ni7cMG2FrEa8",
        "colab": {
          "base_uri": "https://localhost:8080/"
        },
        "outputId": "6fab7038-bbff-4260-b3c1-eb048346126e"
      },
      "source": [
        "# 모델 초기화\n",
        "# 입력데이터 (x) ==> 2\n",
        "# 출력데이터 (Y) ==> 0 / 1\n",
        "W = torch.zeros((2, 1), requires_grad=True)\n",
        "b = torch.zeros(1, requires_grad=True)\n",
        "\n",
        "# optimizer 설정\n",
        "optimizer = optim.SGD([W, b], lr=1)\n",
        "\n",
        "nb_epochs = 1000\n",
        "for epoch in range(nb_epochs + 1):\n",
        "\n",
        "    # Cost 계산\n",
        "    hypothesis = torch.sigmoid(x_train.matmul(W) + b) \n",
        "    cost = -(y_train * torch.log(hypothesis) + (1 - y_train) * torch.log(1 - hypothesis)).mean()\n",
        "\n",
        "    # cost로 H(x) 개선\n",
        "    optimizer.zero_grad()\n",
        "    cost.backward()\n",
        "    optimizer.step()\n",
        "\n",
        "    # 100번마다 로그 출력\n",
        "    if epoch % 100 == 0:\n",
        "        print('Epoch {:4d}/{} Cost: {:.6f}'.format(epoch, nb_epochs, cost.item()))"
      ],
      "execution_count": 8,
      "outputs": [
        {
          "output_type": "stream",
          "name": "stdout",
          "text": [
            "Epoch    0/1000 Cost: 0.693147\n",
            "Epoch  100/1000 Cost: 0.134722\n",
            "Epoch  200/1000 Cost: 0.080643\n",
            "Epoch  300/1000 Cost: 0.057900\n",
            "Epoch  400/1000 Cost: 0.045300\n",
            "Epoch  500/1000 Cost: 0.037261\n",
            "Epoch  600/1000 Cost: 0.031673\n",
            "Epoch  700/1000 Cost: 0.027556\n",
            "Epoch  800/1000 Cost: 0.024394\n",
            "Epoch  900/1000 Cost: 0.021888\n",
            "Epoch 1000/1000 Cost: 0.019852\n"
          ]
        }
      ]
    },
    {
      "cell_type": "markdown",
      "metadata": {
        "id": "wbQZEqtbwBf9"
      },
      "source": [
        "## 데이터 평가"
      ]
    },
    {
      "cell_type": "code",
      "metadata": {
        "id": "UfzjjvUiwBwi",
        "colab": {
          "base_uri": "https://localhost:8080/"
        },
        "outputId": "2ce1c480-9eed-44b7-e753-315b6cd19027"
      },
      "source": [
        "hypothesis = torch.sigmoid(x_train.matmul(W) + b)\n",
        "print(hypothesis[:5])\n",
        "\n",
        "prediction = hypothesis >= torch.FloatTensor([0.5])\n",
        "print(prediction[:5])\n",
        "\n",
        "print(y_train[:5])\n",
        "\n",
        "correct_prediction = prediction.float() == y_train\n",
        "print(correct_prediction[:5])\n",
        "\n",
        "accuracy = correct_prediction.sum().item() / len(correct_prediction)\n",
        "print('The model has an accuracy of {:2.2f}% for the training set.'.format(accuracy * 100))"
      ],
      "execution_count": 11,
      "outputs": [
        {
          "output_type": "stream",
          "name": "stdout",
          "text": [
            "tensor([[2.7648e-04],\n",
            "        [3.1608e-02],\n",
            "        [3.8977e-02],\n",
            "        [9.5622e-01],\n",
            "        [9.9823e-01]], grad_fn=<SliceBackward>)\n",
            "tensor([[False],\n",
            "        [False],\n",
            "        [False],\n",
            "        [ True],\n",
            "        [ True]])\n",
            "tensor([[0.],\n",
            "        [0.],\n",
            "        [0.],\n",
            "        [1.],\n",
            "        [1.]])\n",
            "tensor([[True],\n",
            "        [True],\n",
            "        [True],\n",
            "        [True],\n",
            "        [True]])\n",
            "The model has an accuracy of 100.00% for the training set.\n"
          ]
        }
      ]
    },
    {
      "cell_type": "code",
      "metadata": {
        "id": "R7zABKSpwRXW",
        "colab": {
          "base_uri": "https://localhost:8080/"
        },
        "outputId": "d120eafc-0572-437a-d525-f1e06fcf886e"
      },
      "source": [
        "XX = [[100, 5]] # 100시간 공부하고 5번 수업 참여한 학생은?\n",
        "xx = torch.FloatTensor(XX)\n",
        "hypothesis = torch.sigmoid(xx.matmul(W) + b)\n",
        "prediction = hypothesis >= torch.FloatTensor([0.5])\n",
        "print(prediction) # True면 합격할 것이다!"
      ],
      "execution_count": 13,
      "outputs": [
        {
          "output_type": "stream",
          "name": "stdout",
          "text": [
            "tensor([[True]])\n"
          ]
        }
      ]
    }
  ]
}