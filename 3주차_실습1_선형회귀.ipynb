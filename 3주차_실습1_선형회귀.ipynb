{
  "nbformat": 4,
  "nbformat_minor": 0,
  "metadata": {
    "kernelspec": {
      "display_name": "Python 3",
      "language": "python",
      "name": "python3"
    },
    "language_info": {
      "codemirror_mode": {
        "name": "ipython",
        "version": 3
      },
      "file_extension": ".py",
      "mimetype": "text/x-python",
      "name": "python",
      "nbconvert_exporter": "python",
      "pygments_lexer": "ipython3",
      "version": "3.7.0"
    },
    "colab": {
      "name": "[인공지능][3주차][실습] 선형회귀 (1부).ipynb의 사본",
      "provenance": [],
      "include_colab_link": true
    }
  },
  "cells": [
    {
      "cell_type": "markdown",
      "metadata": {
        "id": "view-in-github",
        "colab_type": "text"
      },
      "source": [
        "<a href=\"https://colab.research.google.com/github/yunjeong-chang/2021_Artificial-Intelligence/blob/main/3%EC%A3%BC%EC%B0%A8_%EC%8B%A4%EC%8A%B51_%EC%84%A0%ED%98%95%ED%9A%8C%EA%B7%80.ipynb\" target=\"_parent\"><img src=\"https://colab.research.google.com/assets/colab-badge.svg\" alt=\"Open In Colab\"/></a>"
      ]
    },
    {
      "cell_type": "markdown",
      "metadata": {
        "id": "18ll6Acnx2Mh"
      },
      "source": [
        "# Linear Regression"
      ]
    },
    {
      "cell_type": "markdown",
      "metadata": {
        "id": "JsUti-5tx2Ml"
      },
      "source": [
        "## Theoretical Overview"
      ]
    },
    {
      "cell_type": "markdown",
      "metadata": {
        "id": "CG5ViGuix2Mm"
      },
      "source": [
        "$$ H(x) = Wx + b $$"
      ]
    },
    {
      "cell_type": "markdown",
      "metadata": {
        "id": "H_HeOLYhx2Mm"
      },
      "source": [
        "$$ cost(W, b) = \\frac{1}{m} \\sum^m_{i=1} \\left( H(x^{(i)}) - y^{(i)} \\right)^2 $$"
      ]
    },
    {
      "cell_type": "markdown",
      "metadata": {
        "id": "G8snyaAcx2Mn"
      },
      "source": [
        " - $H(x)$: 주어진 $x$ 값에 대해 예측을 어떻게 할 것인가\n",
        " - $cost(W, b)$: $H(x)$ 가 $y$ 를 얼마나 잘 예측했는가"
      ]
    },
    {
      "cell_type": "markdown",
      "metadata": {
        "id": "An3MKpjzx2Mo"
      },
      "source": [
        "## Imports"
      ]
    },
    {
      "cell_type": "code",
      "metadata": {
        "id": "FkM-q2NDx2Mp"
      },
      "source": [
        "import torch # torch 라는 라이브러리를 import 한다.\n",
        "import torch.optim as optim # 다양한 최적화 알고리즘을 구현해 놓은 라이브러리"
      ],
      "execution_count": 1,
      "outputs": []
    },
    {
      "cell_type": "code",
      "metadata": {
        "id": "m8Lvupslx2Mx",
        "colab": {
          "base_uri": "https://localhost:8080/"
        },
        "outputId": "21623804-068e-4b5f-9d7f-d8d3f0bce879"
      },
      "source": [
        "# For reproducibility\n",
        "torch.manual_seed(1) # seed 고정해서 랜덤 수를 동일하게 호출"
      ],
      "execution_count": 2,
      "outputs": [
        {
          "output_type": "execute_result",
          "data": {
            "text/plain": [
              "<torch._C.Generator at 0x7fcd0548ab10>"
            ]
          },
          "metadata": {},
          "execution_count": 2
        }
      ]
    },
    {
      "cell_type": "markdown",
      "metadata": {
        "id": "fZh3jH19x2M4"
      },
      "source": [
        "## Data"
      ]
    },
    {
      "cell_type": "markdown",
      "metadata": {
        "id": "EMur8voDx2M5"
      },
      "source": [
        "We will use fake data for this example."
      ]
    },
    {
      "cell_type": "code",
      "metadata": {
        "id": "RwTno0Csx2M6"
      },
      "source": [
        "# (x1,y1)=(1,1), (x2,y2)=(2,2), (x3,y3)=(3,3)\n",
        "x_train = torch.FloatTensor([[1], [2], [3]]) # FloatTensor를 이용해서 값 할당\n",
        "y_train = torch.FloatTensor([[1], [2], [3]])"
      ],
      "execution_count": 3,
      "outputs": []
    },
    {
      "cell_type": "code",
      "metadata": {
        "id": "ts-kExxox2M-",
        "colab": {
          "base_uri": "https://localhost:8080/"
        },
        "outputId": "134e9184-94fc-4a08-ff5e-28ae19aa5d3b"
      },
      "source": [
        "print(x_train)\n",
        "print(x_train.shape) "
      ],
      "execution_count": 4,
      "outputs": [
        {
          "output_type": "stream",
          "name": "stdout",
          "text": [
            "tensor([[1.],\n",
            "        [2.],\n",
            "        [3.]])\n",
            "torch.Size([3, 1])\n"
          ]
        }
      ]
    },
    {
      "cell_type": "code",
      "metadata": {
        "id": "BBb5Pgg5x2ND",
        "colab": {
          "base_uri": "https://localhost:8080/"
        },
        "outputId": "80e4a01c-f74c-4928-fb2c-cb0aae6c024d"
      },
      "source": [
        "print(y_train)\n",
        "print(y_train.shape)"
      ],
      "execution_count": 5,
      "outputs": [
        {
          "output_type": "stream",
          "name": "stdout",
          "text": [
            "tensor([[1.],\n",
            "        [2.],\n",
            "        [3.]])\n",
            "torch.Size([3, 1])\n"
          ]
        }
      ]
    },
    {
      "cell_type": "markdown",
      "metadata": {
        "id": "W8xiFXUGx2NI"
      },
      "source": [
        "기본적으로 PyTorch는 NCHW 형태이다."
      ]
    },
    {
      "cell_type": "markdown",
      "metadata": {
        "id": "KQxg7rJrx2NK"
      },
      "source": [
        "## Weight Initialization"
      ]
    },
    {
      "cell_type": "code",
      "metadata": {
        "id": "APiIZbP-x2NL",
        "colab": {
          "base_uri": "https://localhost:8080/"
        },
        "outputId": "fbcb17f5-1b65-4a9a-c54b-1a0e16faef27"
      },
      "source": [
        "W = torch.zeros(1, requires_grad=True) \n",
        "# 0으로 초기화, 사이즈는 1, requires_grad=True로 하면 이 변수를 학습을 통해서 찾겠다는 의미\n",
        "print(W)"
      ],
      "execution_count": 7,
      "outputs": [
        {
          "output_type": "stream",
          "name": "stdout",
          "text": [
            "tensor([0.], requires_grad=True)\n"
          ]
        }
      ]
    },
    {
      "cell_type": "code",
      "metadata": {
        "id": "GAK9mmdXx2NQ",
        "colab": {
          "base_uri": "https://localhost:8080/"
        },
        "outputId": "c85afb9e-7f8c-449c-ed96-bf1752134cae"
      },
      "source": [
        "b = torch.zeros(1, requires_grad=True) \n",
        "# 0으로 초기화, 사이즈는 1, requires_grad=True로 하면 이 변수를 학습을 통해서 찾겠다는 의미\n",
        "print(b)"
      ],
      "execution_count": 8,
      "outputs": [
        {
          "output_type": "stream",
          "name": "stdout",
          "text": [
            "tensor([0.], requires_grad=True)\n"
          ]
        }
      ]
    },
    {
      "cell_type": "markdown",
      "metadata": {
        "id": "iLoAu3Ehx2NU"
      },
      "source": [
        "## Hypothesis"
      ]
    },
    {
      "cell_type": "markdown",
      "metadata": {
        "id": "a1TmcQbux2NV"
      },
      "source": [
        "$$ H(x) = Wx + b $$"
      ]
    },
    {
      "cell_type": "code",
      "metadata": {
        "id": "rxzDn3vWx2NV",
        "colab": {
          "base_uri": "https://localhost:8080/"
        },
        "outputId": "197d3892-d754-46e4-c6ca-76fc059b43a7"
      },
      "source": [
        "hypothesis = x_train * W + b \n",
        "print(hypothesis)"
      ],
      "execution_count": 9,
      "outputs": [
        {
          "output_type": "stream",
          "name": "stdout",
          "text": [
            "tensor([[0.],\n",
            "        [0.],\n",
            "        [0.]], grad_fn=<AddBackward0>)\n"
          ]
        }
      ]
    },
    {
      "cell_type": "markdown",
      "metadata": {
        "id": "x4wMO2kax2Na"
      },
      "source": [
        "## Cost"
      ]
    },
    {
      "cell_type": "markdown",
      "metadata": {
        "id": "taRjK4WGx2Nc"
      },
      "source": [
        "$$ cost(W, b) = \\frac{1}{m} \\sum^m_{i=1} \\left( H(x^{(i)}) - y^{(i)} \\right)^2 $$"
      ]
    },
    {
      "cell_type": "code",
      "metadata": {
        "id": "gXKXEYBZx2Ne",
        "colab": {
          "base_uri": "https://localhost:8080/"
        },
        "outputId": "da719bfc-819c-4102-f0f6-7f6c1b1915d1"
      },
      "source": [
        "print(hypothesis) "
      ],
      "execution_count": 10,
      "outputs": [
        {
          "output_type": "stream",
          "name": "stdout",
          "text": [
            "tensor([[0.],\n",
            "        [0.],\n",
            "        [0.]], grad_fn=<AddBackward0>)\n"
          ]
        }
      ]
    },
    {
      "cell_type": "code",
      "metadata": {
        "id": "CU2cO5X5x2Ni",
        "colab": {
          "base_uri": "https://localhost:8080/"
        },
        "outputId": "467fd6bb-9b2a-491f-d941-b65fbc997340"
      },
      "source": [
        "print(y_train)"
      ],
      "execution_count": 11,
      "outputs": [
        {
          "output_type": "stream",
          "name": "stdout",
          "text": [
            "tensor([[1.],\n",
            "        [2.],\n",
            "        [3.]])\n"
          ]
        }
      ]
    },
    {
      "cell_type": "code",
      "metadata": {
        "id": "Y1kx5aLCx2No",
        "colab": {
          "base_uri": "https://localhost:8080/"
        },
        "outputId": "306d1422-abb3-4766-aa5b-824464c601a2"
      },
      "source": [
        "print(hypothesis - y_train)"
      ],
      "execution_count": 12,
      "outputs": [
        {
          "output_type": "stream",
          "name": "stdout",
          "text": [
            "tensor([[-1.],\n",
            "        [-2.],\n",
            "        [-3.]], grad_fn=<SubBackward0>)\n"
          ]
        }
      ]
    },
    {
      "cell_type": "code",
      "metadata": {
        "id": "bVsLfNVwx2Nr",
        "colab": {
          "base_uri": "https://localhost:8080/"
        },
        "outputId": "6c2e02b4-559d-444e-df0e-94e9b7f6f1c9"
      },
      "source": [
        "print((hypothesis - y_train) ** 2)"
      ],
      "execution_count": 13,
      "outputs": [
        {
          "output_type": "stream",
          "name": "stdout",
          "text": [
            "tensor([[1.],\n",
            "        [4.],\n",
            "        [9.]], grad_fn=<PowBackward0>)\n"
          ]
        }
      ]
    },
    {
      "cell_type": "code",
      "metadata": {
        "id": "Ytuz8dU0x2Nv",
        "colab": {
          "base_uri": "https://localhost:8080/"
        },
        "outputId": "1515a7d1-5bc3-43b8-c1eb-5a5bf4d4a266"
      },
      "source": [
        "cost = torch.mean((hypothesis - y_train) ** 2)\n",
        "print(cost)"
      ],
      "execution_count": 15,
      "outputs": [
        {
          "output_type": "stream",
          "name": "stdout",
          "text": [
            "tensor(4.6667, grad_fn=<MeanBackward0>)\n"
          ]
        }
      ]
    },
    {
      "cell_type": "markdown",
      "metadata": {
        "id": "xuC5CCCjx2Ny"
      },
      "source": [
        "## Gradient Descent"
      ]
    },
    {
      "cell_type": "code",
      "metadata": {
        "id": "Qn2Vn7aJx2Nz"
      },
      "source": [
        "# W := W - alpha* d/dw *cost(w)\n",
        "# learning rate => lr = 0.01 (GD 함수에서의 알파값)\n",
        "optimizer = optim.SGD([W, b], lr=0.01) #옵티마이저 함수를 사용하면 GD를 쉽게 구현 가능"
      ],
      "execution_count": 16,
      "outputs": []
    },
    {
      "cell_type": "code",
      "metadata": {
        "id": "_zEmfL2xx2N3"
      },
      "source": [
        "# 옵티마이저 초기화 (gradient 값을 0으로) \n",
        "optimizer.zero_grad() \n",
        "# cost계산 !!! 미분값 계산해서\n",
        "cost.backward()\n",
        "# 옵티마이저 갱신\n",
        "optimizer.step()"
      ],
      "execution_count": 17,
      "outputs": []
    },
    {
      "cell_type": "code",
      "metadata": {
        "id": "P9aeWItcx2N7",
        "colab": {
          "base_uri": "https://localhost:8080/"
        },
        "outputId": "533f57b7-343f-4874-d9a2-2d7f8a7b5279"
      },
      "source": [
        "print(W)\n",
        "print(b)"
      ],
      "execution_count": 18,
      "outputs": [
        {
          "output_type": "stream",
          "name": "stdout",
          "text": [
            "tensor([0.0933], requires_grad=True)\n",
            "tensor([0.0400], requires_grad=True)\n"
          ]
        }
      ]
    },
    {
      "cell_type": "markdown",
      "metadata": {
        "id": "CVOJ7HgWx2OA"
      },
      "source": [
        "Let's check if the hypothesis is now better."
      ]
    },
    {
      "cell_type": "code",
      "metadata": {
        "id": "-ugmJP0Rx2OB",
        "colab": {
          "base_uri": "https://localhost:8080/"
        },
        "outputId": "124144a6-4fd8-4a30-f69e-f5b4dacdbbd7"
      },
      "source": [
        "hypothesis = x_train * W + b\n",
        "print(hypothesis)"
      ],
      "execution_count": 19,
      "outputs": [
        {
          "output_type": "stream",
          "name": "stdout",
          "text": [
            "tensor([[0.1333],\n",
            "        [0.2267],\n",
            "        [0.3200]], grad_fn=<AddBackward0>)\n"
          ]
        }
      ]
    },
    {
      "cell_type": "code",
      "metadata": {
        "id": "ORgUo_82x2OF",
        "colab": {
          "base_uri": "https://localhost:8080/"
        },
        "outputId": "70e1d207-fb72-41bd-8472-a564dab17e96"
      },
      "source": [
        "cost = torch.mean((hypothesis - y_train) ** 2)\n",
        "print(cost) #한번 이터레이션 돌았더니 cost 값이 작아짐"
      ],
      "execution_count": 20,
      "outputs": [
        {
          "output_type": "stream",
          "name": "stdout",
          "text": [
            "tensor(3.6927, grad_fn=<MeanBackward0>)\n"
          ]
        }
      ]
    },
    {
      "cell_type": "markdown",
      "metadata": {
        "id": "MGTfrGKnx2OJ"
      },
      "source": [
        "## Training with Full Code"
      ]
    },
    {
      "cell_type": "markdown",
      "metadata": {
        "id": "3muRtjwwx2OK"
      },
      "source": [
        "In reality, we will be training on the dataset for multiple epochs. This can be done simply with loops."
      ]
    },
    {
      "cell_type": "code",
      "metadata": {
        "id": "XW77yG1Vx2OK",
        "colab": {
          "base_uri": "https://localhost:8080/"
        },
        "outputId": "b0c7a39d-0238-4eba-da22-1fc601b86477"
      },
      "source": [
        "# 데이터\n",
        "x_train = torch.FloatTensor([[1], [2], [3]])\n",
        "y_train = torch.FloatTensor([[1], [2], [3]])\n",
        "# 모델 초기화\n",
        "W = torch.zeros(1, requires_grad=True)\n",
        "b = torch.zeros(1, requires_grad=True)\n",
        "# optimizer 설정\n",
        "optimizer = optim.SGD([W, b], lr=0.01)\n",
        "\n",
        "nb_epochs = 1000\n",
        "for epoch in range(nb_epochs + 1):\n",
        "    \n",
        "    # H(x) 계산\n",
        "    hypothesis = x_train * W + b\n",
        "    \n",
        "    # cost 계산\n",
        "    cost = torch.mean((hypothesis - y_train) ** 2)\n",
        "\n",
        "    # cost로 H(x) 개선\n",
        "    optimizer.zero_grad()\n",
        "    cost.backward()\n",
        "    optimizer.step()\n",
        "\n",
        "    # 100번마다 로그 출력\n",
        "    if epoch % 100 == 0:\n",
        "        print('Epoch {:4d}/{} W: {:.3f}, b: {:.3f} Cost: {:.6f}'.format(\n",
        "            epoch, nb_epochs, W.item(), b.item(), cost.item()\n",
        "        ))"
      ],
      "execution_count": 21,
      "outputs": [
        {
          "output_type": "stream",
          "name": "stdout",
          "text": [
            "Epoch    0/1000 W: 0.093, b: 0.040 Cost: 4.666667\n",
            "Epoch  100/1000 W: 0.873, b: 0.289 Cost: 0.012043\n",
            "Epoch  200/1000 W: 0.900, b: 0.227 Cost: 0.007442\n",
            "Epoch  300/1000 W: 0.921, b: 0.179 Cost: 0.004598\n",
            "Epoch  400/1000 W: 0.938, b: 0.140 Cost: 0.002842\n",
            "Epoch  500/1000 W: 0.951, b: 0.110 Cost: 0.001756\n",
            "Epoch  600/1000 W: 0.962, b: 0.087 Cost: 0.001085\n",
            "Epoch  700/1000 W: 0.970, b: 0.068 Cost: 0.000670\n",
            "Epoch  800/1000 W: 0.976, b: 0.054 Cost: 0.000414\n",
            "Epoch  900/1000 W: 0.981, b: 0.042 Cost: 0.000256\n",
            "Epoch 1000/1000 W: 0.985, b: 0.033 Cost: 0.000158\n"
          ]
        }
      ]
    },
    {
      "cell_type": "code",
      "metadata": {
        "id": "upGNMSzhz3cO",
        "colab": {
          "base_uri": "https://localhost:8080/"
        },
        "outputId": "107a38de-23da-45e6-aa8d-61c3623c9f52"
      },
      "source": [
        "# H(x) = Wx + b\n",
        "# 가설설정 => 예측하고자 하는 값 => 시험성적 => 1 * 7 + 0.033 = \n",
        "print(W * 7 + b)"
      ],
      "execution_count": 22,
      "outputs": [
        {
          "output_type": "stream",
          "name": "stdout",
          "text": [
            "tensor([6.9311], grad_fn=<AddBackward0>)\n"
          ]
        }
      ]
    }
  ]
}