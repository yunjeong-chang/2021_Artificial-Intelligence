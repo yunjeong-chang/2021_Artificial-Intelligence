{
  "nbformat": 4,
  "nbformat_minor": 0,
  "metadata": {
    "colab": {
      "name": "[인공지능][6주차][실습] 심층신경망 (1부).ipynb의 사본",
      "provenance": [],
      "collapsed_sections": [],
      "include_colab_link": true
    },
    "kernelspec": {
      "name": "python3",
      "display_name": "Python 3"
    }
  },
  "cells": [
    {
      "cell_type": "markdown",
      "metadata": {
        "id": "view-in-github",
        "colab_type": "text"
      },
      "source": [
        "<a href=\"https://colab.research.google.com/github/yunjeong-chang/2021_Artificial-Intelligence/blob/main/5%EC%A3%BC%EC%B0%A8/exercise/5%EC%A3%BC%EC%B0%A8_%EC%8B%A4%EC%8A%B51_%ED%8D%BC%EC%85%89%ED%8A%B8%EB%A1%A0.ipynb\" target=\"_parent\"><img src=\"https://colab.research.google.com/assets/colab-badge.svg\" alt=\"Open In Colab\"/></a>"
      ]
    },
    {
      "cell_type": "markdown",
      "metadata": {
        "id": "BCeMws33ffOr"
      },
      "source": [
        "## 퍼셉트론이란? \n",
        "- 은닉레이어가 하나인 신경망 구조\n",
        "- 퍼셉트론으로는 XOR 문제를 해결할 수 없다.\n",
        "\n"
      ]
    },
    {
      "cell_type": "markdown",
      "metadata": {
        "id": "KICgMtceiba9"
      },
      "source": [
        "### 데이터 입출력 정의\n",
        "\n"
      ]
    },
    {
      "cell_type": "code",
      "metadata": {
        "id": "SF0szvRcfLqk"
      },
      "source": [
        "# CPU 모드\n",
        "import torch"
      ],
      "execution_count": 1,
      "outputs": []
    },
    {
      "cell_type": "code",
      "metadata": {
        "id": "1jYU7ABXfrEi",
        "colab": {
          "base_uri": "https://localhost:8080/"
        },
        "outputId": "e5fbda61-c771-449f-a754-89d119ad1465"
      },
      "source": [
        "torch.manual_seed(777)"
      ],
      "execution_count": 2,
      "outputs": [
        {
          "output_type": "execute_result",
          "data": {
            "text/plain": [
              "<torch._C.Generator at 0x7fdbaff7caf0>"
            ]
          },
          "metadata": {},
          "execution_count": 2
        }
      ]
    },
    {
      "cell_type": "code",
      "metadata": {
        "id": "G50PfvkgfzCJ"
      },
      "source": [
        "X = torch.FloatTensor([[0,0], [0,1], [1,0],[1,1]])\n",
        "Y = torch.FloatTensor([[0],[1],[1],[0]])"
      ],
      "execution_count": 3,
      "outputs": []
    },
    {
      "cell_type": "code",
      "metadata": {
        "id": "rr6BSx_igArE",
        "colab": {
          "base_uri": "https://localhost:8080/"
        },
        "outputId": "96c425d8-6531-45dc-f4cf-e51198cc32bb"
      },
      "source": [
        "X"
      ],
      "execution_count": 4,
      "outputs": [
        {
          "output_type": "execute_result",
          "data": {
            "text/plain": [
              "tensor([[0., 0.],\n",
              "        [0., 1.],\n",
              "        [1., 0.],\n",
              "        [1., 1.]])"
            ]
          },
          "metadata": {},
          "execution_count": 4
        }
      ]
    },
    {
      "cell_type": "code",
      "metadata": {
        "id": "D9Zew-NagBSc",
        "colab": {
          "base_uri": "https://localhost:8080/"
        },
        "outputId": "4431be02-1bbb-4361-9252-a32fe0d6f989"
      },
      "source": [
        "Y"
      ],
      "execution_count": 5,
      "outputs": [
        {
          "output_type": "execute_result",
          "data": {
            "text/plain": [
              "tensor([[0.],\n",
              "        [1.],\n",
              "        [1.],\n",
              "        [0.]])"
            ]
          },
          "metadata": {},
          "execution_count": 5
        }
      ]
    },
    {
      "cell_type": "markdown",
      "metadata": {
        "id": "BKxjv84Sin1m"
      },
      "source": [
        "### NN 모델 정의"
      ]
    },
    {
      "cell_type": "code",
      "metadata": {
        "id": "N_QxOdu6gB9c"
      },
      "source": [
        "# 모델 정의\n",
        "# Layer 정의 (퍼셉트론이므로 레이어가 하나)\n",
        "linear = torch.nn.Linear(2,1,bias=True) # Fully Connected Layer, 2개의 입력이 들어와서 출력 1개\n",
        "sigmoid = torch.nn.Sigmoid()"
      ],
      "execution_count": 6,
      "outputs": []
    },
    {
      "cell_type": "code",
      "metadata": {
        "id": "MckDBLgpgPFn"
      },
      "source": [
        "# 연결 단계\n",
        "model = torch.nn.Sequential(linear,sigmoid) # 순서 지켜줘야 함"
      ],
      "execution_count": 7,
      "outputs": []
    },
    {
      "cell_type": "code",
      "metadata": {
        "id": "hI_mZMr-gXTe",
        "colab": {
          "base_uri": "https://localhost:8080/"
        },
        "outputId": "5abe275b-da96-4572-c6a4-59bbd701dba6"
      },
      "source": [
        "model"
      ],
      "execution_count": 10,
      "outputs": [
        {
          "output_type": "execute_result",
          "data": {
            "text/plain": [
              "Sequential(\n",
              "  (0): Linear(in_features=2, out_features=1, bias=True)\n",
              "  (1): Sigmoid()\n",
              ")"
            ]
          },
          "metadata": {},
          "execution_count": 10
        }
      ]
    },
    {
      "cell_type": "markdown",
      "metadata": {
        "id": "vm8j_fVoisA9"
      },
      "source": [
        "### 모델 학습"
      ]
    },
    {
      "cell_type": "code",
      "metadata": {
        "id": "CiNUi0FBgYKG"
      },
      "source": [
        "# 모델 학습 환경 설정\n",
        "loss = torch.nn.BCELoss() # Binary Cross Entropy Loss\n",
        "optimizer = torch.optim.SGD(model.parameters(),lr=1)"
      ],
      "execution_count": 11,
      "outputs": []
    },
    {
      "cell_type": "code",
      "metadata": {
        "id": "Ea55ULKMgelO",
        "colab": {
          "base_uri": "https://localhost:8080/"
        },
        "outputId": "736f2aff-1345-4d24-a400-f85cb0066b27"
      },
      "source": [
        "for stop in range(10000):\n",
        "    \n",
        "    # 그래디언트 초기화\n",
        "    optimizer.zero_grad()\n",
        "    # Forward 계산\n",
        "    hypothesis = model(X)\n",
        "    # Error 계산\n",
        "    cost = loss(hypothesis, Y)\n",
        "    # Backward 계산 \n",
        "    cost.backward()\n",
        "    # 가중치 갱신\n",
        "    optimizer.step()\n",
        "\n",
        "    if stop % 1000 == 0:\n",
        "        print(stop, cost.item())\n"
      ],
      "execution_count": 13,
      "outputs": [
        {
          "output_type": "stream",
          "name": "stdout",
          "text": [
            "0 0.6931471824645996\n",
            "1000 0.6931471824645996\n",
            "2000 0.6931471824645996\n",
            "3000 0.6931471824645996\n",
            "4000 0.6931471824645996\n",
            "5000 0.6931471824645996\n",
            "6000 0.6931471824645996\n",
            "7000 0.6931471824645996\n",
            "8000 0.6931471824645996\n",
            "9000 0.6931471824645996\n"
          ]
        }
      ]
    },
    {
      "cell_type": "markdown",
      "metadata": {
        "id": "-_0-9XEJi0p-"
      },
      "source": [
        "### 모델 평가"
      ]
    },
    {
      "cell_type": "code",
      "metadata": {
        "id": "BuHSQSrbhkpN",
        "colab": {
          "base_uri": "https://localhost:8080/"
        },
        "outputId": "3c26337b-aea7-4b2a-c462-4d9d77df66d4"
      },
      "source": [
        "## w,b 평가\n",
        "\n",
        "with torch.no_grad(): # 임시로 required_grad = false로 설정하는 것과 같다.\n",
        "\n",
        "    hypothesis = model(X)\n",
        "    predicted = (hypothesis > 0.5).float()\n",
        "    accuracy = (predicted == Y).float().mean()\n",
        "    print('\\n Hypothesis: ', hypothesis.numpy(), '\\n Correct: ', predicted.numpy(), '\\n Accuracy: ', accuracy.item())\n"
      ],
      "execution_count": 14,
      "outputs": [
        {
          "output_type": "stream",
          "name": "stdout",
          "text": [
            "\n",
            " Hypothesis:  [[0.5]\n",
            " [0.5]\n",
            " [0.5]\n",
            " [0.5]] \n",
            " Correct:  [[0.]\n",
            " [0.]\n",
            " [0.]\n",
            " [0.]] \n",
            " Accuracy:  0.5\n"
          ]
        }
      ]
    }
  ]
}